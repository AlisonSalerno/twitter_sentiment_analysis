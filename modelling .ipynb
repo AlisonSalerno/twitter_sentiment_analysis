{
 "cells": [
  {
   "cell_type": "code",
   "execution_count": 1,
   "metadata": {},
   "outputs": [
    {
     "name": "stderr",
     "output_type": "stream",
     "text": [
      "/Users/judebuenaseda/.pyenv/versions/3.8.2/lib/python3.8/site-packages/pandas/compat/__init__.py:117: UserWarning: Could not import the lzma module. Your installed Python is incomplete. Attempting to use lzma compression will result in a RuntimeError.\n",
      "  warnings.warn(msg)\n"
     ]
    }
   ],
   "source": [
    "import pandas as pd\n",
    "import seaborn as sns\n",
    "import matplotlib.pyplot as plt\n",
    "pd.set_option('display.max_columns',100)\n",
    "pd.set_option('display.max_rows',100)\n",
    "import numpy as np\n",
    "import warnings\n",
    "warnings.filterwarnings('ignore')\n",
    "\n",
    "import re\n",
    "\n",
    "from nltk.corpus import stopwords\n",
    "from nltk.tokenize import word_tokenize\n",
    "from nltk.probability import FreqDist\n",
    "from nltk.stem import PorterStemmer\n",
    "\n",
    "from sklearn.feature_extraction.text import CountVectorizer\n",
    "from sklearn.feature_extraction.text import TfidfVectorizer\n",
    "from sklearn.feature_extraction.text import TfidfTransformer\n",
    "\n",
    "from sklearn.metrics import confusion_matrix\n",
    "from sklearn.naive_bayes import MultinomialNB\n",
    "\n",
    "from sklearn.model_selection import train_test_split\n",
    "from sklearn.ensemble import RandomForestClassifier\n",
    "from sklearn.metrics import accuracy_score\n",
    "from sklearn.metrics import f1_score\n",
    "\n",
    "\n",
    "from wordcloud import WordCloud, STOPWORDS\n",
    "\n",
    "import string\n",
    "from matplotlib import style"
   ]
  },
  {
   "cell_type": "code",
   "execution_count": 213,
   "metadata": {},
   "outputs": [],
   "source": [
    "#reading in 2020 tweets for nuclear energy with labels attached\n",
    "df = pd.read_csv('tweets_2020_labeled.csv',index_col=0)"
   ]
  },
  {
   "cell_type": "code",
   "execution_count": 214,
   "metadata": {},
   "outputs": [],
   "source": [
    "#Create stopwords list\n",
    "\n",
    "stopwords_list = stopwords.words('english')\n",
    "stopwords_list += ['nuclear','energy','…','nuclearenergy','’','核エネルギーの潜在的な危険性は、いくら強調してもし過ぎるということはない。']"
   ]
  },
  {
   "cell_type": "code",
   "execution_count": 215,
   "metadata": {},
   "outputs": [],
   "source": [
    "X = df['tweet']\n",
    "y = df['labeled_tweet']"
   ]
  },
  {
   "cell_type": "code",
   "execution_count": 216,
   "metadata": {},
   "outputs": [
    {
     "data": {
      "image/png": "[encoded data removed]",
      "text/plain": [
       "<Figure size 864x576 with 1 Axes>"
      ]
     },
     "metadata": {},
     "output_type": "display_data"
    }
   ],
   "source": [
    "#there are more positive than negative but majority is neutral\n",
    "plt.style.use('seaborn-talk')\n",
    "plt.figure() \n",
    "fig1 = y.value_counts().plot(kind='bar', figsize=(12,8))\n",
    "plt.title('Label Distribution')\n",
    "fig1.set(xticklabels=['Neutral', 'Positive', 'Negative'])\n",
    "plt.xticks(rotation=0)\n",
    "plt.xlabel('Labels')\n",
    "plt.ylabel('Number of Tweets')\n",
    "plt.show()"
   ]
  },
  {
   "cell_type": "code",
   "execution_count": 217,
   "metadata": {},
   "outputs": [
    {
     "data": {
      "text/plain": [
       "neu    0.775000\n",
       "pos    0.157667\n",
       "neg    0.067333\n",
       "Name: labeled_tweet, dtype: float64"
      ]
     },
     "execution_count": 217,
     "metadata": {},
     "output_type": "execute_result"
    }
   ],
   "source": [
    "y.value_counts(normalize=True)"
   ]
  },
  {
   "cell_type": "markdown",
   "metadata": {},
   "source": [
    "## TF-IDF Vectorizer process for classification"
   ]
  },
  {
   "cell_type": "code",
   "execution_count": 218,
   "metadata": {},
   "outputs": [],
   "source": [
    "#function to remove punctuation and non-alphabetical characters\n",
    "def clean_text_round1(text):\n",
    "    '''Make text lowercase, remove text in square brackets, remove punctuation and remove words containing numbers.'''\n",
    "    #text = text.lower()\n",
    "    text = re.sub('\\[.*?\\]', ' ', text)\n",
    "    text = re.sub('[%s]' % re.escape(string.punctuation), '', text)\n",
    "    text = re.sub('\\w*\\d\\w*', ' ', text)\n",
    "    text = re.sub('\\n', ' ', text)\n",
    "    text = re.sub('  ', ' ', text)\n",
    "    text = re.sub(r'^https?:\\/\\/.*[\\r\\n]*', '', text, flags=re.MULTILINE)\n",
    "    #text = re.sub(r'\\w+:\\/{2}[\\d\\w-]+(\\.[\\d\\w-]+)*(?:(?:\\/[^\\s/]*))*', '', text)\n",
    "    return text\n",
    "\n",
    "#test = clean_text_round1(tweet_df['tweet'][24])\n",
    "round1 = lambda x: clean_text_round1(x)\n",
    "X_fake = pd.DataFrame(X.apply(round1))"
   ]
  },
  {
   "cell_type": "code",
   "execution_count": 219,
   "metadata": {},
   "outputs": [],
   "source": [
    "X = X_fake['tweet']"
   ]
  },
  {
   "cell_type": "code",
   "execution_count": 221,
   "metadata": {},
   "outputs": [],
   "source": [
    "X_train, X_test, y_train, y_test = train_test_split(X, y, random_state=20)\n",
    "\n",
    "tfidf = TfidfVectorizer(stop_words = stopwords_list)\n",
    "tfidf_data_train = tfidf.fit_transform(X_train)\n",
    "tfidf_data_test = tfidf.transform(X_test)\n",
    "#tfidf_data_train"
   ]
  },
  {
   "cell_type": "code",
   "execution_count": 222,
   "metadata": {},
   "outputs": [
    {
     "data": {
      "text/plain": [
       "(2250, 8037)"
      ]
     },
     "execution_count": 222,
     "metadata": {},
     "output_type": "execute_result"
    }
   ],
   "source": [
    "tfidf_data_train.shape"
   ]
  },
  {
   "cell_type": "markdown",
   "metadata": {},
   "source": [
    "### Dummy Classifier"
   ]
  },
  {
   "cell_type": "code",
   "execution_count": 223,
   "metadata": {},
   "outputs": [],
   "source": [
    "from sklearn.dummy import DummyClassifier"
   ]
  },
  {
   "cell_type": "code",
   "execution_count": 224,
   "metadata": {},
   "outputs": [],
   "source": [
    "dc_classifier = DummyClassifier(strategy='most_frequent')\n",
    "\n",
    "dc_classifier.fit(tfidf_data_train, y_train)\n",
    "\n",
    "dc_train_preds = dc_classifier.predict(tfidf_data_train)\n",
    "dc_test_preds = dc_classifier.predict(tfidf_data_test)"
   ]
  },
  {
   "cell_type": "code",
   "execution_count": 225,
   "metadata": {},
   "outputs": [
    {
     "name": "stdout",
     "output_type": "stream",
     "text": [
      "Dummy with TF-IDF\n",
      "Training Accuracy: 0.7742\n",
      "Testing Accuracy: 0.7773\n"
     ]
    }
   ],
   "source": [
    "dc_train_score = accuracy_score(y_train, dc_train_preds)\n",
    "dc_test_score = accuracy_score(y_test, dc_test_preds)\n",
    "\n",
    "print('Dummy with TF-IDF')\n",
    "print(\"Training Accuracy: {:.4}\".format(dc_train_score))\n",
    "print(\"Testing Accuracy: {:.4}\".format(dc_test_score))"
   ]
  },
  {
   "cell_type": "markdown",
   "metadata": {},
   "source": [
    "### Models - NB & RF"
   ]
  },
  {
   "cell_type": "code",
   "execution_count": 226,
   "metadata": {},
   "outputs": [],
   "source": [
    "#Naiive Bayes Model\n",
    "\n",
    "nb_classifier = MultinomialNB()\n",
    "\n",
    "nb_classifier.fit(tfidf_data_train, y_train)\n",
    "\n",
    "nb_train_preds = nb_classifier.predict(tfidf_data_train)\n",
    "nb_test_preds = nb_classifier.predict(tfidf_data_test)"
   ]
  },
  {
   "cell_type": "code",
   "execution_count": 227,
   "metadata": {},
   "outputs": [
    {
     "name": "stdout",
     "output_type": "stream",
     "text": [
      "Naiive-Bayes with TF-IDF\n",
      "Training Accuracy: 0.7929\n",
      "Testing Accuracy: 0.7853\n"
     ]
    }
   ],
   "source": [
    "nb_train_score = accuracy_score(y_train, nb_train_preds)\n",
    "nb_test_score = accuracy_score(y_test, nb_test_preds)\n",
    "\n",
    "print('Naiive-Bayes with TF-IDF')\n",
    "print(\"Training Accuracy: {:.4}\".format(nb_train_score))\n",
    "print(\"Testing Accuracy: {:.4}\".format(nb_test_score))"
   ]
  },
  {
   "cell_type": "code",
   "execution_count": 312,
   "metadata": {},
   "outputs": [],
   "source": [
    "#Random Forest Model\n",
    "\n",
    "rf_classifier = RandomForestClassifier(n_estimators=100, random_state=0, class_weight='balanced')\n",
    "\n",
    "rf_classifier.fit(tfidf_data_train, y_train)\n",
    "\n",
    "rf_test_preds = rf_classifier.predict(tfidf_data_test)\n",
    "rf_train_preds = rf_classifier.predict(tfidf_data_train)"
   ]
  },
  {
   "cell_type": "code",
   "execution_count": 313,
   "metadata": {},
   "outputs": [
    {
     "name": "stdout",
     "output_type": "stream",
     "text": [
      "Random Forest with TF-IDF\n",
      "Training Accuracy: 0.9991\n",
      "Testing Accuracy: 0.7813\n"
     ]
    }
   ],
   "source": [
    "rf_acc_score_train = accuracy_score(y_train, rf_train_preds)\n",
    "rf_acc_score = accuracy_score(y_test, rf_test_preds)\n",
    "\n",
    "print('Random Forest with TF-IDF')\n",
    "print(\"Training Accuracy: {:.4}\".format(rf_acc_score_train))\n",
    "print(\"Testing Accuracy: {:.4}\".format(rf_acc_score))"
   ]
  },
  {
   "cell_type": "code",
   "execution_count": null,
   "metadata": {},
   "outputs": [],
   "source": []
  },
  {
   "cell_type": "code",
   "execution_count": 233,
   "metadata": {},
   "outputs": [
    {
     "data": {
      "text/html": [
       "<div>\n",
       "<style scoped>\n",
       "    .dataframe tbody tr th:only-of-type {\n",
       "        vertical-align: middle;\n",
       "    }\n",
       "\n",
       "    .dataframe tbody tr th {\n",
       "        vertical-align: top;\n",
       "    }\n",
       "\n",
       "    .dataframe thead th {\n",
       "        text-align: right;\n",
       "    }\n",
       "</style>\n",
       "<table border=\"1\" class=\"dataframe\">\n",
       "  <thead>\n",
       "    <tr style=\"text-align: right;\">\n",
       "      <th></th>\n",
       "      <th>0</th>\n",
       "    </tr>\n",
       "  </thead>\n",
       "  <tbody>\n",
       "    <tr>\n",
       "      <th>years</th>\n",
       "      <td>0.015688</td>\n",
       "    </tr>\n",
       "    <tr>\n",
       "      <th>avstå</th>\n",
       "      <td>0.015378</td>\n",
       "    </tr>\n",
       "    <tr>\n",
       "      <th>wilmington</th>\n",
       "      <td>0.012091</td>\n",
       "    </tr>\n",
       "    <tr>\n",
       "      <th>pictwittercomvkzlcwpgzh</th>\n",
       "      <td>0.011143</td>\n",
       "    </tr>\n",
       "    <tr>\n",
       "      <th>angela</th>\n",
       "      <td>0.010870</td>\n",
       "    </tr>\n",
       "    <tr>\n",
       "      <th>expanding</th>\n",
       "      <td>0.009672</td>\n",
       "    </tr>\n",
       "    <tr>\n",
       "      <th>worrisome</th>\n",
       "      <td>0.008910</td>\n",
       "    </tr>\n",
       "    <tr>\n",
       "      <th>laptop</th>\n",
       "      <td>0.008822</td>\n",
       "    </tr>\n",
       "    <tr>\n",
       "      <th>imp</th>\n",
       "      <td>0.008809</td>\n",
       "    </tr>\n",
       "    <tr>\n",
       "      <th>chronological</th>\n",
       "      <td>0.008619</td>\n",
       "    </tr>\n",
       "    <tr>\n",
       "      <th>hates</th>\n",
       "      <td>0.008451</td>\n",
       "    </tr>\n",
       "    <tr>\n",
       "      <th>availability</th>\n",
       "      <td>0.008027</td>\n",
       "    </tr>\n",
       "    <tr>\n",
       "      <th>inefficiency</th>\n",
       "      <td>0.007707</td>\n",
       "    </tr>\n",
       "    <tr>\n",
       "      <th>external</th>\n",
       "      <td>0.006821</td>\n",
       "    </tr>\n",
       "    <tr>\n",
       "      <th>effective</th>\n",
       "      <td>0.006571</td>\n",
       "    </tr>\n",
       "    <tr>\n",
       "      <th>ahero</th>\n",
       "      <td>0.006432</td>\n",
       "    </tr>\n",
       "    <tr>\n",
       "      <th>extraordinary</th>\n",
       "      <td>0.006088</td>\n",
       "    </tr>\n",
       "    <tr>\n",
       "      <th>debunking</th>\n",
       "      <td>0.006078</td>\n",
       "    </tr>\n",
       "    <tr>\n",
       "      <th>pharmagates</th>\n",
       "      <td>0.005866</td>\n",
       "    </tr>\n",
       "    <tr>\n",
       "      <th>grovelling</th>\n",
       "      <td>0.005779</td>\n",
       "    </tr>\n",
       "  </tbody>\n",
       "</table>\n",
       "</div>"
      ],
      "text/plain": [
       "                                0\n",
       "years                    0.015688\n",
       "avstå                    0.015378\n",
       "wilmington               0.012091\n",
       "pictwittercomvkzlcwpgzh  0.011143\n",
       "angela                   0.010870\n",
       "expanding                0.009672\n",
       "worrisome                0.008910\n",
       "laptop                   0.008822\n",
       "imp                      0.008809\n",
       "chronological            0.008619\n",
       "hates                    0.008451\n",
       "availability             0.008027\n",
       "inefficiency             0.007707\n",
       "external                 0.006821\n",
       "effective                0.006571\n",
       "ahero                    0.006432\n",
       "extraordinary            0.006088\n",
       "debunking                0.006078\n",
       "pharmagates              0.005866\n",
       "grovelling               0.005779"
      ]
     },
     "execution_count": 233,
     "metadata": {},
     "output_type": "execute_result"
    }
   ],
   "source": [
    "#feature importance scores\n",
    "#Decision tree algorithms like classification offer importance scores based on the reduction in the criterion used to select split points, like Gini or entropy.\n",
    "feat_importanceDF_rfc_2 = pd.DataFrame(rf_classifier.feature_importances_, index=tfidf.vocabulary_)\n",
    "feat_importanceDF_rfc_2.sort_values(by=0,ascending=False).head(20)"
   ]
  },
  {
   "cell_type": "code",
   "execution_count": 240,
   "metadata": {},
   "outputs": [
    {
     "data": {
      "image/png": "[encoded data removed]",
      "text/plain": [
       "<Figure size 748.8x514.8 with 1 Axes>"
      ]
     },
     "metadata": {},
     "output_type": "display_data"
    }
   ],
   "source": [
    "#plot top 5 features for the RFC\n",
    "feat_importances_2 = pd.Series(rf_classifier.feature_importances_,index=tfidf.vocabulary_)\n",
    "feat_importances_2.nlargest(15).sort_values().plot(kind='barh')\n",
    "plt.title(\"Top 15 Feature Importance - RFC\")\n",
    "plt.xlabel('Relative Importance')\n",
    "plt.ylabel('Tokens')\n",
    "plt.show()"
   ]
  },
  {
   "cell_type": "markdown",
   "metadata": {},
   "source": [
    "### Confusion Matrix"
   ]
  },
  {
   "cell_type": "code",
   "execution_count": 34,
   "metadata": {},
   "outputs": [
    {
     "data": {
      "image/png": "[encoded data removed]",
      "text/plain": [
       "<Figure size 432x288 with 1 Axes>"
      ]
     },
     "metadata": {},
     "output_type": "display_data"
    }
   ],
   "source": [
    "#confusion matrix on train set\n",
    "sns.set()\n",
    "\n",
    "\n",
    "mat2 = confusion_matrix(y_train, rf_train_preds)\n",
    "sns.heatmap(mat2.T, square=True, annot=True, fmt='d', cbar=False,\n",
    "            xticklabels=['Negative', 'Neutral', 'Positive'], yticklabels=['Negative', 'Neutral', 'Positive'])\n",
    "plt.xlabel('true label')\n",
    "plt.ylabel('predicted label');"
   ]
  },
  {
   "cell_type": "code",
   "execution_count": 31,
   "metadata": {},
   "outputs": [
    {
     "data": {
      "image/png": "[encoded data removed]",
      "text/plain": [
       "<Figure size 432x288 with 1 Axes>"
      ]
     },
     "metadata": {},
     "output_type": "display_data"
    }
   ],
   "source": [
    "#confusion matrix on test set\n",
    "sns.set()\n",
    "\n",
    "\n",
    "mat = confusion_matrix(y_test, rf_test_preds)\n",
    "sns.heatmap(mat.T, square=True, annot=True, fmt='d', cbar=False,\n",
    "            xticklabels=['Negative', 'Neutral', 'Positive'], yticklabels=['Negative', 'Neutral', 'Positive'])\n",
    "plt.xlabel('true label')\n",
    "plt.ylabel('predicted label');"
   ]
  },
  {
   "cell_type": "code",
   "execution_count": 57,
   "metadata": {},
   "outputs": [],
   "source": [
    "from sklearn.metrics import precision_score\n",
    "from sklearn.metrics import recall_score"
   ]
  },
  {
   "cell_type": "code",
   "execution_count": 59,
   "metadata": {},
   "outputs": [
    {
     "name": "stdout",
     "output_type": "stream",
     "text": [
      "Precision Score :  0.7966666666666666\n",
      "Recall Score :  0.7966666666666666\n"
     ]
    }
   ],
   "source": [
    "print(\"Precision Score : \",precision_score(y_test, rf_test_preds, \n",
    "                                           average='micro'))\n",
    "print(\"Recall Score : \",recall_score(y_test, rf_test_preds, \n",
    "                                           average='micro'))"
   ]
  },
  {
   "cell_type": "markdown",
   "metadata": {},
   "source": [
    "### Testing Model with Emotions About Nuclear Energy dataset from CROWDFLOWER"
   ]
  },
  {
   "cell_type": "code",
   "execution_count": 242,
   "metadata": {},
   "outputs": [],
   "source": [
    "df_crowdflower = pd.read_csv('sentiment_nuclear_power.csv', encoding= 'unicode_escape')"
   ]
  },
  {
   "cell_type": "code",
   "execution_count": 247,
   "metadata": {},
   "outputs": [],
   "source": [
    "df_crowdflower['sentiment'].replace({'Neutral / author is just sharing information': 'neu', \n",
    "                                     'Negative': 'neg', \n",
    "                                     'Positive': 'pos',\n",
    "                                     'Tweet NOT related to nuclear energy': 'neu'}, inplace=True)"
   ]
  },
  {
   "cell_type": "code",
   "execution_count": 251,
   "metadata": {},
   "outputs": [],
   "source": [
    "X_cf = df_crowdflower['tweet_text']\n",
    "y_cf = df_crowdflower['sentiment']"
   ]
  },
  {
   "cell_type": "code",
   "execution_count": 252,
   "metadata": {},
   "outputs": [
    {
     "data": {
      "text/plain": [
       "neu    0.847368\n",
       "neg    0.100000\n",
       "pos    0.052632\n",
       "Name: sentiment, dtype: float64"
      ]
     },
     "execution_count": 252,
     "metadata": {},
     "output_type": "execute_result"
    }
   ],
   "source": [
    "y_cf.value_counts(normalize=True)"
   ]
  },
  {
   "cell_type": "code",
   "execution_count": 255,
   "metadata": {},
   "outputs": [],
   "source": [
    "X_cf_fake = pd.DataFrame(X_cf.apply(round1))\n",
    "X_cf = X_cf_fake['tweet_text']\n",
    "\n",
    "\n",
    "\n",
    "tfidf_cf = tfidf.transform(X_cf)"
   ]
  },
  {
   "cell_type": "code",
   "execution_count": 256,
   "metadata": {},
   "outputs": [
    {
     "data": {
      "text/plain": [
       "<190x8037 sparse matrix of type '<class 'numpy.float64'>'\n",
       "\twith 1545 stored elements in Compressed Sparse Row format>"
      ]
     },
     "execution_count": 256,
     "metadata": {},
     "output_type": "execute_result"
    }
   ],
   "source": [
    "tfidf_cf"
   ]
  },
  {
   "cell_type": "markdown",
   "metadata": {},
   "source": [
    "### Running the Model"
   ]
  },
  {
   "cell_type": "code",
   "execution_count": 258,
   "metadata": {},
   "outputs": [
    {
     "name": "stdout",
     "output_type": "stream",
     "text": [
      "Random Forest with TF-IDF using crowdflower data\n",
      "Accuracy: 0.6684\n"
     ]
    }
   ],
   "source": [
    "rf_cf = rf_classifier.predict(tfidf_cf)\n",
    "\n",
    "rf_cf_score = accuracy_score(y_cf, rf_cf)\n",
    "print('Random Forest with TF-IDF using crowdflower data')\n",
    "print(\"Accuracy: {:.4}\".format(rf_cf_score))"
   ]
  },
  {
   "cell_type": "code",
   "execution_count": 259,
   "metadata": {},
   "outputs": [
    {
     "data": {
      "image/png": "[encoded data removed]",
      "text/plain": [
       "<Figure size 748.8x514.8 with 1 Axes>"
      ]
     },
     "metadata": {},
     "output_type": "display_data"
    }
   ],
   "source": [
    "#Confusion Matrix on cf\n",
    "\n",
    "sns.set()\n",
    "\n",
    "\n",
    "mat3 = confusion_matrix(y_cf, rf_cf)\n",
    "sns.heatmap(mat3.T, square=True, annot=True, fmt='d', cbar=False,\n",
    "            xticklabels=['Negative', 'Neutral', 'Positive'], yticklabels=['Negative', 'Neutral', 'Positive'])\n",
    "plt.xlabel('true label')\n",
    "plt.ylabel('predicted label');"
   ]
  },
  {
   "cell_type": "markdown",
   "metadata": {},
   "source": [
    "## With Lemmatizer"
   ]
  },
  {
   "cell_type": "code",
   "execution_count": 62,
   "metadata": {},
   "outputs": [],
   "source": [
    "#reading in 2020 tweets for nuclear energy with labels attached\n",
    "df_lem = pd.read_csv('tweets_2020_labeled.csv',index_col=0)"
   ]
  },
  {
   "cell_type": "code",
   "execution_count": 63,
   "metadata": {},
   "outputs": [],
   "source": [
    "#function to remove punctuation and non-alphabetical characters\n",
    "def clean_text_round1(text):\n",
    "    '''Make text lowercase, remove text in square brackets, remove punctuation and remove words containing numbers.'''\n",
    "    text = text.lower()\n",
    "    text = re.sub('\\[.*?\\]', ' ', text)\n",
    "    text = re.sub('[%s]' % re.escape(string.punctuation), '', text)\n",
    "    text = re.sub('\\w*\\d\\w*', ' ', text)\n",
    "    text = re.sub('\\n', ' ', text)\n",
    "    text = re.sub('  ', ' ', text)\n",
    "    text = re.sub(r'^https?:\\/\\/.*[\\r\\n]*', '', text, flags=re.MULTILINE)\n",
    "    #text = re.sub(r'\\w+:\\/{2}[\\d\\w-]+(\\.[\\d\\w-]+)*(?:(?:\\/[^\\s/]*))*', '', text)\n",
    "    return text\n",
    "\n",
    "#test = clean_text_round1(tweet_df['tweet'][24])\n",
    "round1 = lambda x: clean_text_round1(x)\n",
    "df_lem.tweet = pd.DataFrame(df_lem.tweet.apply(round1))\n"
   ]
  },
  {
   "cell_type": "code",
   "execution_count": 65,
   "metadata": {},
   "outputs": [],
   "source": [
    "def tokenize(text):\n",
    "    text = [word_tokenize(x) for x in text]\n",
    "    return text\n",
    "\n",
    "df_lem.tweet = tokenize(df_lem.tweet)"
   ]
  },
  {
   "cell_type": "code",
   "execution_count": 66,
   "metadata": {},
   "outputs": [],
   "source": [
    "stopwords_list = stopwords.words('english')\n",
    "stopwords_list += ['nuclear','energy','…','nuclearenergy','’','核エネルギーの潜在的な危険性は、いくら強調してもし過ぎるということはない。']\n",
    "df_lem.tweet = df_lem['tweet'].apply(lambda x: [item for item in x if item not in stopwords_list])"
   ]
  },
  {
   "cell_type": "code",
   "execution_count": 81,
   "metadata": {},
   "outputs": [],
   "source": [
    "p_data =df_lem['tweet']"
   ]
  },
  {
   "cell_type": "code",
   "execution_count": 68,
   "metadata": {},
   "outputs": [],
   "source": [
    "from nltk.stem import WordNetLemmatizer \n",
    "  \n",
    "lemmatizer = WordNetLemmatizer() "
   ]
  },
  {
   "cell_type": "code",
   "execution_count": 82,
   "metadata": {},
   "outputs": [],
   "source": [
    "# creating a list with all lemmatized outputs\n",
    "lemmatized_output = []\n",
    "\n",
    "for listy in p_data:\n",
    "    lemmed = ' '.join([lemmatizer.lemmatize(w) for w in listy])\n",
    "    lemmatized_output.append(lemmed)"
   ]
  },
  {
   "cell_type": "code",
   "execution_count": 83,
   "metadata": {},
   "outputs": [],
   "source": [
    "X_lem = lemmatized_output\n",
    "# [' '.join(d) for d in processed_data]\n",
    "\n",
    "y_lem = df_lem['labeled_tweet']\n",
    "# X[3]"
   ]
  },
  {
   "cell_type": "code",
   "execution_count": 87,
   "metadata": {},
   "outputs": [],
   "source": [
    "X_train_lem, X_test_lem, y_train_lem, y_test_lem = train_test_split(X_lem, y_lem, test_size=0.20, random_state=1)\n",
    "tfidf = TfidfVectorizer()\n",
    "\n",
    "tfidf_data_train_lem = tfidf.fit_transform(X_train_lem)\n",
    "tfidf_data_test_lem = tfidf.transform(X_test_lem)\n",
    "\n",
    "#tfidf_data_train_lem"
   ]
  },
  {
   "cell_type": "code",
   "execution_count": 314,
   "metadata": {},
   "outputs": [
    {
     "name": "stdout",
     "output_type": "stream",
     "text": [
      "Random Forest with Lemmatization Features\n",
      "Training Accuracy: 0.9975\n",
      "Testing Accuracy: 0.7733\n"
     ]
    }
   ],
   "source": [
    "#rf\n",
    "\n",
    "rf_classifier_lem = RandomForestClassifier(n_estimators=100, random_state=0, class_weight = 'balanced')\n",
    "\n",
    "rf_classifier_lem.fit(tfidf_data_train_lem, y_train_lem)\n",
    "\n",
    "rf_test_preds_lem = rf_classifier_lem.predict(tfidf_data_test_lem)\n",
    "rf_train_preds_lem = rf_classifier_lem.predict(tfidf_data_train_lem)\n",
    "\n",
    "rf_acc_score_lem = accuracy_score(y_test_lem, rf_test_preds_lem)\n",
    "rf_train_score_lem = accuracy_score(y_train_lem, rf_train_preds_lem)\n",
    "print('Random Forest with Lemmatization Features')\n",
    "print(\"Training Accuracy: {:.4}\".format(rf_train_score_lem))\n",
    "print(\"Testing Accuracy: {:.4}\".format(rf_acc_score_lem))\n"
   ]
  },
  {
   "cell_type": "code",
   "execution_count": null,
   "metadata": {},
   "outputs": [],
   "source": []
  }
 ],
 "metadata": {
  "kernelspec": {
   "display_name": "Python 3",
   "language": "python",
   "name": "python3"
  },
  "language_info": {
   "codemirror_mode": {
    "name": "ipython",
    "version": 3
   },
   "file_extension": ".py",
   "mimetype": "text/x-python",
   "name": "python",
   "nbconvert_exporter": "python",
   "pygments_lexer": "ipython3",
   "version": "3.8.2"
  }
 },
 "nbformat": 4,
 "nbformat_minor": 4
}
